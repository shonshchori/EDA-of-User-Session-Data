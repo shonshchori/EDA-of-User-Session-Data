{
 "cells":[
  {
   "cell_type":"markdown",
   "source":[
    "# Advanced Data Mining and Analysis in Python\n",
    "## Exploring User Behavior on an E-commerce Website: An EDA of User Session Data\n",
    "**In this exercise, we will conduct an exploratory data analysis (EDA) on a dataset that contains information regarding user sessions on an e-commerce website.**  \n",
    "\n",
    "Our analysis will involve addressing the presence of **missing values**, as well as **optimizing data types**, in order to facilitate the creation of new variables that provide additional insights into the data.  \n",
    "\n",
    "To this end, we will leverage the existing data to **engineer new columns** that will augment our understanding of the dataset."
   ],
   "attachments":{
    
   },
   "metadata":{
    "datalore":{
     "node_id":"zH6m2bs186vjwgHuipeyzD",
     "type":"MD",
     "hide_input_from_viewers":true,
     "hide_output_from_viewers":true
    }
   }
  },
  {
   "cell_type":"code",
   "source":[
    "import pandas as pd\n",
    "import numpy as np\n",
    "import re\n",
    "import matplotlib.pyplot as plt\n",
    "import seaborn as sns\n",
    "import datetime"
   ],
   "execution_count":1,
   "outputs":[
    
   ],
   "metadata":{
    "datalore":{
     "node_id":"dtwh37W9LApaELGqsUmlTU",
     "type":"CODE",
     "hide_input_from_viewers":true,
     "hide_output_from_viewers":true
    }
   }
  },
  {
   "cell_type":"code",
   "source":[
    "FILE_PATH = '\/data\/notebook_files\/Exercise2_cosmetics.csv'\n",
    "data = pd.read_csv(FILE_PATH)"
   ],
   "execution_count":2,
   "outputs":[
    {
     "name":"stderr",
     "text":[
      "\/opt\/python\/envs\/default\/lib\/python3.8\/site-packages\/IPython\/core\/interactiveshell.py:3457: DtypeWarning: Columns (6) have mixed types.Specify dtype option on import or set low_memory=False.\n",
      "  exec(code_obj, self.user_global_ns, self.user_ns)\n"
     ],
     "output_type":"stream"
    }
   ],
   "metadata":{
    "datalore":{
     "node_id":"47rhKg0FNC4BwaGoNnywzB",
     "type":"CODE",
     "hide_input_from_viewers":true,
     "hide_output_from_viewers":true
    }
   }
  },
  {
   "cell_type":"markdown",
   "source":[
    "## EDA step - Understanding the data\n",
    "Before we'll start the exercise and answer the questions, let's first understand what we're facing with - our data."
   ],
   "attachments":{
    
   },
   "metadata":{
    "datalore":{
     "node_id":"0ii15yHjWjn4rdtmm3I5U4",
     "type":"MD",
     "hide_input_from_viewers":true,
     "hide_output_from_viewers":true
    }
   }
  },
  {
   "cell_type":"code",
   "source":[
    "print (f'The length of the dataset is {len(data)} entries')"
   ],
   "execution_count":3,
   "outputs":[
    {
     "name":"stdout",
     "text":[
      "The length of the dataset is 1048575 entries\n"
     ],
     "output_type":"stream"
    }
   ],
   "metadata":{
    "datalore":{
     "node_id":"tPS7GyEeLHPMaFreMteTXm",
     "type":"CODE",
     "hide_input_from_viewers":true,
     "hide_output_from_viewers":true
    }
   }
  },
  {
   "cell_type":"code",
   "source":[
    "data.sample(5)"
   ],
   "execution_count":4,
   "outputs":[
    {
     "data":{
      "text\/html":[
       "<div>\n",
       "<style scoped>\n",
       "    .dataframe tbody tr th:only-of-type {\n",
       "        vertical-align: middle;\n",
       "    }\n",
       "\n",
       "    .dataframe tbody tr th {\n",
       "        vertical-align: top;\n",
       "    }\n",
       "\n",
       "    .dataframe thead th {\n",
       "        text-align: right;\n",
       "    }\n",
       "<\/style>\n",
       "<table border=\"1\" class=\"dataframe\">\n",
       "  <thead>\n",
       "    <tr style=\"text-align: right;\">\n",
       "      <th><\/th>\n",
       "      <th>event_time<\/th>\n",
       "      <th>event_type<\/th>\n",
       "      <th>product_id<\/th>\n",
       "      <th>category_id<\/th>\n",
       "      <th>category_code<\/th>\n",
       "      <th>brand<\/th>\n",
       "      <th>price<\/th>\n",
       "      <th>user_id<\/th>\n",
       "      <th>user_session<\/th>\n",
       "    <\/tr>\n",
       "  <\/thead>\n",
       "  <tbody>\n",
       "    <tr>\n",
       "      <th>127910<\/th>\n",
       "      <td>2019-11-02 05:38:23<\/td>\n",
       "      <td>view<\/td>\n",
       "      <td>5826000<\/td>\n",
       "      <td>1487580005092290000<\/td>\n",
       "      <td>NaN<\/td>\n",
       "      <td>lianail<\/td>\n",
       "      <td>6.33<\/td>\n",
       "      <td>514003567<\/td>\n",
       "      <td>a74a7d82-d513-4ecd-97ba-054dc7ed7e60<\/td>\n",
       "    <\/tr>\n",
       "    <tr>\n",
       "      <th>204740<\/th>\n",
       "      <td>2019-11-02 18:32:08<\/td>\n",
       "      <td>view<\/td>\n",
       "      <td>5793062<\/td>\n",
       "      <td>1487580005754990000<\/td>\n",
       "      <td>NaN<\/td>\n",
       "      <td>NaN<\/td>\n",
       "      <td>7.62<\/td>\n",
       "      <td>432943261<\/td>\n",
       "      <td>86597895-9f16-3c0e-09f3-ec48b1f767c9<\/td>\n",
       "    <\/tr>\n",
       "    <tr>\n",
       "      <th>185499<\/th>\n",
       "      <td>2019-11-02 15:54:29<\/td>\n",
       "      <td>purchase<\/td>\n",
       "      <td>5799891<\/td>\n",
       "      <td>1487580009051710000<\/td>\n",
       "      <td>NaN<\/td>\n",
       "      <td>NaN<\/td>\n",
       "      <td>19.03<\/td>\n",
       "      <td>566774731<\/td>\n",
       "      <td>ff5bb494-bc6c-417e-b9ae-c73a90e4872b<\/td>\n",
       "    <\/tr>\n",
       "    <tr>\n",
       "      <th>317382<\/th>\n",
       "      <td>2019-11-03 17:06:40<\/td>\n",
       "      <td>cart<\/td>\n",
       "      <td>5831651<\/td>\n",
       "      <td>1783999068909860000<\/td>\n",
       "      <td>NaN<\/td>\n",
       "      <td>NaN<\/td>\n",
       "      <td>15.87<\/td>\n",
       "      <td>545046026<\/td>\n",
       "      <td>66ed1403-4f69-413c-98f8-67d80408d6fa<\/td>\n",
       "    <\/tr>\n",
       "    <tr>\n",
       "      <th>233483<\/th>\n",
       "      <td>2019-11-03 00:46:42<\/td>\n",
       "      <td>remove_from_cart<\/td>\n",
       "      <td>5815492<\/td>\n",
       "      <td>1487580010125450000<\/td>\n",
       "      <td>NaN<\/td>\n",
       "      <td>NaN<\/td>\n",
       "      <td>1.43<\/td>\n",
       "      <td>472295371<\/td>\n",
       "      <td>1980f7e2-9f8d-44c5-992f-a9a46d9d8619<\/td>\n",
       "    <\/tr>\n",
       "  <\/tbody>\n",
       "<\/table>\n",
       "<\/div>"
      ]
     },
     "metadata":{
      
     },
     "output_type":"display_data"
    }
   ],
   "metadata":{
    "datalore":{
     "node_id":"axZhOvwruuV2PykQDsmOc2",
     "type":"CODE",
     "hide_input_from_viewers":true,
     "hide_output_from_viewers":true
    }
   }
  },
  {
   "cell_type":"markdown",
   "source":[
    "### Missing Values:\n",
    "\n",
    "Let's check the missing values:"
   ],
   "attachments":{
    
   },
   "metadata":{
    "datalore":{
     "node_id":"cQ9QBDNnoKh5XwySczInil",
     "type":"MD",
     "hide_input_from_viewers":true,
     "hide_output_from_viewers":true
    }
   }
  },
  {
   "cell_type":"code",
   "source":[
    "data.isna().sum().sort_values(ascending = False)"
   ],
   "execution_count":5,
   "outputs":[
    {
     "data":{
      "text\/html":[
       "<pre>category_code    1031860\n",
       "brand             446124\n",
       "user_session         218\n",
       "event_time             0\n",
       "event_type             0\n",
       "product_id             0\n",
       "category_id            0\n",
       "price                  0\n",
       "user_id                0\n",
       "dtype: int64<\/pre>"
      ]
     },
     "metadata":{
      
     },
     "output_type":"display_data"
    }
   ],
   "metadata":{
    "datalore":{
     "node_id":"Ez2d15JRW8ISqRvdvWiNnl",
     "type":"CODE",
     "hide_input_from_viewers":true,
     "hide_output_from_viewers":true
    }
   }
  },
  {
   "cell_type":"markdown",
   "source":[
    "Since we won't use `category_code` for this exercise, and since we can't know how to fill correctly the missing values, we'll ignore them.  \n",
    "\n",
    "**And about the `user_session` column:**"
   ],
   "attachments":{
    
   },
   "metadata":{
    "datalore":{
     "node_id":"SpCvXG89T5ufSbg3KdDklD",
     "type":"MD",
     "hide_input_from_viewers":true,
     "hide_output_from_viewers":true
    }
   }
  },
  {
   "cell_type":"code",
   "source":[
    "print(\"The rows that don't have 'user_session' values are {:.4f}% of the dataset\".format((data.user_session.isna().sum()\/len(data))*100))"
   ],
   "execution_count":6,
   "outputs":[
    {
     "name":"stdout",
     "text":[
      "The rows that don't have 'user_session' values are 0.0208% of the dataset\n"
     ],
     "output_type":"stream"
    }
   ],
   "metadata":{
    "datalore":{
     "node_id":"unC9p689z1MzfHwNEQiUgs",
     "type":"CODE",
     "hide_input_from_viewers":true,
     "hide_output_from_viewers":true
    }
   }
  },
  {
   "cell_type":"markdown",
   "source":[
    "**Because it's very small part of the dataset, we'll drop them.**"
   ],
   "attachments":{
    
   },
   "metadata":{
    "datalore":{
     "node_id":"0AlSmqtTpyGX8Og6dwoECg",
     "type":"MD",
     "hide_input_from_viewers":true,
     "hide_output_from_viewers":true
    }
   }
  },
  {
   "cell_type":"code",
   "source":[
    "data.dropna(subset=['user_session'], inplace = True)"
   ],
   "execution_count":7,
   "outputs":[
    
   ],
   "metadata":{
    "datalore":{
     "node_id":"rw4vaT9MgNDJTU8VUOKBwD",
     "type":"CODE",
     "hide_input_from_viewers":true,
     "hide_output_from_viewers":true
    }
   }
  },
  {
   "cell_type":"markdown",
   "source":[
    "### Data Types\n",
    "Let's check the data types:"
   ],
   "attachments":{
    
   },
   "metadata":{
    "datalore":{
     "node_id":"Cryac67yoNbjvGuSQkY2jm",
     "type":"MD",
     "hide_input_from_viewers":true,
     "hide_output_from_viewers":true
    }
   }
  },
  {
   "cell_type":"code",
   "source":[
    "data.dtypes"
   ],
   "execution_count":8,
   "outputs":[
    {
     "data":{
      "text\/html":[
       "<pre>event_time       object\n",
       "event_type       object\n",
       "product_id        int64\n",
       "category_id       int64\n",
       "category_code    object\n",
       "brand            object\n",
       "price            object\n",
       "user_id           int64\n",
       "user_session     object\n",
       "dtype: object<\/pre>"
      ]
     },
     "metadata":{
      
     },
     "output_type":"display_data"
    }
   ],
   "metadata":{
    "datalore":{
     "node_id":"eDw9RGYKkLbif5sfkz4XK2",
     "type":"CODE",
     "hide_input_from_viewers":true,
     "hide_output_from_viewers":true
    }
   }
  },
  {
   "cell_type":"markdown",
   "source":[
    "We see that there's a lot of 'object' types, which will make our analysis harder or even impossible.  \n",
    "So, to make it easier, we'll convert the following columns into different types:  \n",
    "\n",
    "* **event_time**: str -> datetime.\n",
    "* **price**: str -> int."
   ],
   "attachments":{
    
   },
   "metadata":{
    "datalore":{
     "node_id":"RZWVKmQ8spTW98V0d6czeV",
     "type":"MD",
     "hide_input_from_viewers":true,
     "hide_output_from_viewers":true
    }
   }
  },
  {
   "cell_type":"code",
   "source":[
    "# Example\n",
    "str = '2.44 sale'\n",
    "re.findall(\"\\d+\\.\\d+\",str)[0]"
   ],
   "execution_count":9,
   "outputs":[
    {
     "data":{
      "text\/plain":[
       "'2.44'"
      ]
     },
     "metadata":{
      
     },
     "output_type":"display_data"
    }
   ],
   "metadata":{
    "datalore":{
     "node_id":"scNMLTziCC2jSJFUdP9Pyi",
     "type":"CODE",
     "hide_input_from_viewers":true,
     "hide_output_from_viewers":true
    }
   }
  },
  {
   "cell_type":"code",
   "source":[
    "data.price = data.price.astype('str') # First, make sure the column contains only strings so the 're' methods will work on it. \n",
    "data.price = data.price.apply(lambda x: re.findall('\\d+\\.\\d+',x)[0]) # Extract the number from the string.\n",
    "data.price = data.price.astype('float') # Convert the price column to floats.\n",
    "data.event_time = pd.to_datetime(data.event_time) # Convert 'event time' to datetime objects.\n",
    "data['event_date'] = data.event_time.apply(lambda x: x.date()) # We'll add 'event_column'."
   ],
   "execution_count":10,
   "outputs":[
    
   ],
   "metadata":{
    "datalore":{
     "node_id":"tSo7hhA4UaLQe2cOawpJmI",
     "type":"CODE",
     "hide_input_from_viewers":true,
     "hide_output_from_viewers":true
    }
   }
  },
  {
   "cell_type":"markdown",
   "source":[
    "We can **re-order the columns** for more <u>logical order<\/u>, so the `user_id` and the `user_session` we'll be alongside the `event_time` in the **beginning** of each row."
   ],
   "attachments":{
    
   },
   "metadata":{
    "datalore":{
     "node_id":"MpwpeUW7HGZvEggdznsNlO",
     "type":"MD",
     "hide_input_from_viewers":true,
     "hide_output_from_viewers":true
    }
   }
  },
  {
   "cell_type":"code",
   "source":[
    "data = data[['user_id', 'user_session','event_date', 'event_time', 'event_type',\n",
    "                   'product_id', 'category_id', 'category_code', 'brand', 'price']]"
   ],
   "execution_count":11,
   "outputs":[
    
   ],
   "metadata":{
    "datalore":{
     "node_id":"CMXVRbIPAqW2YPO4KeXGgI",
     "type":"CODE",
     "hide_input_from_viewers":true,
     "hide_output_from_viewers":true
    }
   }
  },
  {
   "cell_type":"markdown",
   "source":[
    "Make sure the dataset order by sessions and dates:"
   ],
   "attachments":{
    
   },
   "metadata":{
    "datalore":{
     "node_id":"6uDrrowSGWmIUlZ2uBfKTB",
     "type":"MD",
     "hide_input_from_viewers":true,
     "hide_output_from_viewers":true
    }
   }
  },
  {
   "cell_type":"code",
   "source":[
    "data.sort_values(by = ['user_session','event_time'], inplace = True)"
   ],
   "execution_count":12,
   "outputs":[
    
   ],
   "metadata":{
    "datalore":{
     "node_id":"xdTXRhigvsb7agAyCtHwvW",
     "type":"CODE",
     "hide_input_from_viewers":true,
     "hide_output_from_viewers":true
    }
   }
  },
  {
   "cell_type":"markdown",
   "source":[
    "### The Questions"
   ],
   "attachments":{
    
   },
   "metadata":{
    "datalore":{
     "node_id":"4ZBNFJOVka38p6yzuXjWIH",
     "type":"MD",
     "hide_input_from_viewers":true,
     "hide_output_from_viewers":true
    }
   }
  },
  {
   "cell_type":"markdown",
   "source":[
    "1. **Add 'duration_to_next_event' column, which indicates the time duration between the current and the next event, that's for each session.**  \n",
    "\n",
    "Because we're talking about sessions, we have to group the dataset by them. then we'll perform the calculation by subtraction the time between the next and the current event (using the `shift` method).  \n",
    "\n",
    "Then, we'll move the vector of those time differences <u>one row back<\/u>, convert it to seconds and <u>fill the nulls with zeros<\/u>."
   ],
   "attachments":{
    
   },
   "metadata":{
    "datalore":{
     "node_id":"WC86PBvIvm9Ao4xzK1CUDj",
     "type":"MD",
     "hide_input_from_viewers":true,
     "hide_output_from_viewers":true
    }
   }
  },
  {
   "cell_type":"code",
   "source":[
    "data['duration_to_next_event'] = data.event_time.shift(-1) - data.event_time\n",
    "data['duration_to_next_event'] = data['duration_to_next_event'].apply(lambda x: x.total_seconds())\n",
    "\n",
    "# Keep the Original Indexes.\n",
    "data['id'] = data.index\n",
    "\n",
    "# Create list of the indexes of each last row of each session.\n",
    "last_idx = [i for i in data.groupby('user_session', as_index=False).last()['id'].values]\n",
    "\n",
    "# Replace the value of the rows that appears in the list to zero.\n",
    "data.loc[data['id'].isin(last_idx), 'duration_to_next_event'] = 0\n",
    "\n",
    "# Drop the 'id' column.\n",
    "data.drop(columns='id', inplace = True)"
   ],
   "execution_count":13,
   "outputs":[
    
   ],
   "metadata":{
    "datalore":{
     "node_id":"7DEuichKzg282SNShzcXa3",
     "type":"CODE",
     "hide_input_from_viewers":true,
     "hide_output_from_viewers":true
    }
   }
  },
  {
   "cell_type":"code",
   "source":[
    "### While it may take longer to run, I believe this is a more elegant solution.\n",
    "\n",
    "# # Calculate the difference between every two rows.\n",
    "# data['duration_to_next_event'] = data.groupby('user_session')\\\n",
    "#     .apply(lambda x: (x.event_time - x.event_time.shift(1)).shift(-1)).values\n",
    "\n",
    "# # Convert the result to seconds.\n",
    "# data['duration_to_next_event'] = data['duration_to_next_event'].map(lambda y: y.total_seconds())\n",
    "\n",
    "# # Fill the last row with zero.\n",
    "# data['duration_to_next_event'].fillna(0, inplace = True)"
   ],
   "execution_count":14,
   "outputs":[
    
   ],
   "metadata":{
    "datalore":{
     "node_id":"vI9uNpXrrBMZOFI7KX5avS",
     "type":"CODE",
     "hide_input_from_viewers":true,
     "hide_output_from_viewers":true
    }
   }
  },
  {
   "cell_type":"markdown",
   "source":[
    "2. **Add 'funnel_number' column.**\n",
    "\n",
    "**'Funnel'** is <u>sequence of visits (sessions)<\/u> that made by the **same user** (identified by user_id) within **range of less than 5 days**.  \n",
    "In order to retrive this feature, first we'll **extract the number of days passed bewteen each two sessions:**"
   ],
   "attachments":{
    
   },
   "metadata":{
    "datalore":{
     "node_id":"0T9uUaJVmgE8NlY1vipcDC",
     "type":"MD",
     "hide_input_from_viewers":true,
     "hide_output_from_viewers":true
    }
   }
  },
  {
   "cell_type":"code",
   "source":[
    "# Keep the Original Indexes.\n",
    "data['id'] = data.index\n",
    "\n",
    "# Create Temporary Dataframe which includes the last row for each date for each id row.\n",
    "temp_df = data.groupby(by=['user_id','event_date'], as_index = False).last()\n",
    "\n",
    "# Add 'Funnel' Column which similar to the previous question.\n",
    "temp_df['days_gap'] = temp_df.event_date.shift(-1) - temp_df.event_date\n",
    "temp_df['days_gap'] = temp_df.days_gap.apply(lambda x: x.days)\n",
    "\n",
    "# Hold the last indexes for each 'user_id' row\n",
    "last_idx = [i for i in temp_df.groupby(by=['user_id'], as_index=False).last()['id'].values]\n",
    "\n",
    "# Replace the value of each last row for each user to zero (because the next row is another user).\n",
    "temp_df.loc[temp_df['id'].isin(last_idx), 'days_gap'] = 0\n",
    "\n",
    "# Set the index as the id - to join it to the original data by index.\n",
    "temp_df.set_index('id',inplace=True)\n",
    "\n",
    "# Hold the funnels as Series.\n",
    "days = temp_df.days_gap\n",
    "\n",
    "# Join the funnels with the entire data.\n",
    "data = data.join(days, how='left').fillna(0)\n",
    "\n",
    "# Drop the 'id' column.\n",
    "data.drop(columns='id', inplace = True)"
   ],
   "execution_count":15,
   "outputs":[
    
   ],
   "metadata":{
    "datalore":{
     "node_id":"WOTcyBIm3c7jZ4dyu0HhoF",
     "type":"CODE",
     "hide_input_from_viewers":true,
     "hide_output_from_viewers":true
    }
   }
  },
  {
   "cell_type":"markdown",
   "source":[
    "**After we create this column, we can get back to order by user_id, event_time and user_session.**"
   ],
   "attachments":{
    
   },
   "metadata":{
    "datalore":{
     "node_id":"Zf3aZNXFatolWVDqjbwGCT",
     "type":"MD",
     "hide_input_from_viewers":true,
     "hide_output_from_viewers":true
    }
   }
  },
  {
   "cell_type":"code",
   "source":[
    "data.sort_values(by = ['user_id','event_time'], inplace = True)"
   ],
   "execution_count":16,
   "outputs":[
    
   ],
   "metadata":{
    "datalore":{
     "node_id":"YcXY7dqlyLCoEYXsYvNpEC",
     "type":"CODE",
     "hide_input_from_viewers":true,
     "hide_output_from_viewers":true
    }
   }
  },
  {
   "cell_type":"markdown",
   "source":[
    "**Now we'll add the 'funnel_number' column.**  \n",
    "We'll use for loop which will iterate over the user_ids, and sub-loop which will iterate over the slice of those ids."
   ],
   "attachments":{
    
   },
   "metadata":{
    "datalore":{
     "node_id":"vPhcnPuHpWUaZxSRL0ATxa",
     "type":"MD",
     "hide_input_from_viewers":true,
     "hide_output_from_viewers":true
    }
   }
  },
  {
   "cell_type":"code",
   "source":[
    "# Set new column.\n",
    "data['funnel_number'] = 0\n",
    "\n",
    "# The outer loop iterates over each user. The inner loop iterates over each slice of each user_id.\n",
    "for user in data.user_id.unique():\n",
    "    funnel_number = 1\n",
    "    for index, row in data[data.user_id == user].iterrows():\n",
    "        if row.days_gap < 5: # Means the session is still under the same funnel.\n",
    "            data.at[index, 'funnel_number'] = funnel_number # Inserts the funnel number.\n",
    "        else: # Means it's the last session for the current funnel.\n",
    "            data.at[index, 'funnel_number'] = funnel_number # Inserts the funnel number.\n",
    "            funnel_number += 1 # Adds 1 for the funnel number."
   ],
   "execution_count":17,
   "outputs":[
    
   ],
   "metadata":{
    "datalore":{
     "node_id":"WZJgZqYd8cOQlNEtgxKHr6",
     "type":"CODE",
     "hide_input_from_viewers":true,
     "hide_output_from_viewers":true
    }
   }
  },
  {
   "cell_type":"markdown",
   "source":[
    "Here's an example for one id with 2 funnels:"
   ],
   "attachments":{
    
   },
   "metadata":{
    "datalore":{
     "node_id":"PizkqUPJCrLVEEVapDJ7BH",
     "type":"MD",
     "hide_input_from_viewers":true,
     "hide_output_from_viewers":true
    }
   }
  },
  {
   "cell_type":"code",
   "source":[
    "data[data.user_id==567277662].head()"
   ],
   "execution_count":18,
   "outputs":[
    {
     "data":{
      "text\/html":[
       "<div>\n",
       "<style scoped>\n",
       "    .dataframe tbody tr th:only-of-type {\n",
       "        vertical-align: middle;\n",
       "    }\n",
       "\n",
       "    .dataframe tbody tr th {\n",
       "        vertical-align: top;\n",
       "    }\n",
       "\n",
       "    .dataframe thead th {\n",
       "        text-align: right;\n",
       "    }\n",
       "<\/style>\n",
       "<table border=\"1\" class=\"dataframe\">\n",
       "  <thead>\n",
       "    <tr style=\"text-align: right;\">\n",
       "      <th><\/th>\n",
       "      <th>user_id<\/th>\n",
       "      <th>user_session<\/th>\n",
       "      <th>event_date<\/th>\n",
       "      <th>event_time<\/th>\n",
       "      <th>event_type<\/th>\n",
       "      <th>product_id<\/th>\n",
       "      <th>category_id<\/th>\n",
       "      <th>category_code<\/th>\n",
       "      <th>brand<\/th>\n",
       "      <th>price<\/th>\n",
       "      <th>duration_to_next_event<\/th>\n",
       "      <th>days_gap<\/th>\n",
       "      <th>funnel_number<\/th>\n",
       "    <\/tr>\n",
       "  <\/thead>\n",
       "  <tbody>\n",
       "    <tr>\n",
       "      <th>355560<\/th>\n",
       "      <td>567277662<\/td>\n",
       "      <td>745ca0bb-134d-4094-87d2-123f275291cd<\/td>\n",
       "      <td>2019-11-03<\/td>\n",
       "      <td>2019-11-03 22:32:32<\/td>\n",
       "      <td>view<\/td>\n",
       "      <td>5841195<\/td>\n",
       "      <td>1487580009051710000<\/td>\n",
       "      <td>0<\/td>\n",
       "      <td>0<\/td>\n",
       "      <td>47.59<\/td>\n",
       "      <td>1000.0<\/td>\n",
       "      <td>0.0<\/td>\n",
       "      <td>1<\/td>\n",
       "    <\/tr>\n",
       "    <tr>\n",
       "      <th>356376<\/th>\n",
       "      <td>567277662<\/td>\n",
       "      <td>745ca0bb-134d-4094-87d2-123f275291cd<\/td>\n",
       "      <td>2019-11-03<\/td>\n",
       "      <td>2019-11-03 22:49:12<\/td>\n",
       "      <td>cart<\/td>\n",
       "      <td>5615144<\/td>\n",
       "      <td>1487580005092290000<\/td>\n",
       "      <td>0<\/td>\n",
       "      <td>0<\/td>\n",
       "      <td>4.76<\/td>\n",
       "      <td>0.0<\/td>\n",
       "      <td>5.0<\/td>\n",
       "      <td>1<\/td>\n",
       "    <\/tr>\n",
       "    <tr>\n",
       "      <th>981581<\/th>\n",
       "      <td>567277662<\/td>\n",
       "      <td>c84cac0f-40de-400e-9ed2-a7899aee34b7<\/td>\n",
       "      <td>2019-11-08<\/td>\n",
       "      <td>2019-11-08 01:04:02<\/td>\n",
       "      <td>view<\/td>\n",
       "      <td>5615144<\/td>\n",
       "      <td>1487580005092290000<\/td>\n",
       "      <td>0<\/td>\n",
       "      <td>0<\/td>\n",
       "      <td>4.76<\/td>\n",
       "      <td>186.0<\/td>\n",
       "      <td>0.0<\/td>\n",
       "      <td>2<\/td>\n",
       "    <\/tr>\n",
       "    <tr>\n",
       "      <th>981693<\/th>\n",
       "      <td>567277662<\/td>\n",
       "      <td>c84cac0f-40de-400e-9ed2-a7899aee34b7<\/td>\n",
       "      <td>2019-11-08<\/td>\n",
       "      <td>2019-11-08 01:07:08<\/td>\n",
       "      <td>view<\/td>\n",
       "      <td>5730206<\/td>\n",
       "      <td>1487580005092290000<\/td>\n",
       "      <td>0<\/td>\n",
       "      <td>0<\/td>\n",
       "      <td>10.32<\/td>\n",
       "      <td>200.0<\/td>\n",
       "      <td>0.0<\/td>\n",
       "      <td>2<\/td>\n",
       "    <\/tr>\n",
       "    <tr>\n",
       "      <th>981771<\/th>\n",
       "      <td>567277662<\/td>\n",
       "      <td>c84cac0f-40de-400e-9ed2-a7899aee34b7<\/td>\n",
       "      <td>2019-11-08<\/td>\n",
       "      <td>2019-11-08 01:10:28<\/td>\n",
       "      <td>view<\/td>\n",
       "      <td>5599264<\/td>\n",
       "      <td>1487580005553660000<\/td>\n",
       "      <td>0<\/td>\n",
       "      <td>0<\/td>\n",
       "      <td>7.14<\/td>\n",
       "      <td>115.0<\/td>\n",
       "      <td>0.0<\/td>\n",
       "      <td>2<\/td>\n",
       "    <\/tr>\n",
       "  <\/tbody>\n",
       "<\/table>\n",
       "<\/div>"
      ]
     },
     "metadata":{
      
     },
     "output_type":"display_data"
    }
   ],
   "metadata":{
    "datalore":{
     "node_id":"EHdQ4dY7qeYGW6kN25228a",
     "type":"CODE",
     "hide_input_from_viewers":true,
     "hide_output_from_viewers":true
    }
   }
  },
  {
   "cell_type":"markdown",
   "source":[
    "3. **Add 'index_in_funnel' column.**\n",
    "\n",
    "We'll use `group_by` method to group by 'user_id' and 'funnel_number' and then `cumcount` to count the rows."
   ],
   "attachments":{
    
   },
   "metadata":{
    "datalore":{
     "node_id":"q5FqUjMpoTVsadjkibXK34",
     "type":"MD",
     "hide_input_from_viewers":true,
     "hide_output_from_viewers":true
    }
   }
  },
  {
   "cell_type":"code",
   "source":[
    "data['index_in_funnel'] = data.groupby(['user_id','funnel_number']).cumcount() + 1"
   ],
   "execution_count":19,
   "outputs":[
    
   ],
   "metadata":{
    "datalore":{
     "node_id":"KA8DnquWpoV76yZ4cBAJ2f",
     "type":"CODE",
     "hide_input_from_viewers":true,
     "hide_output_from_viewers":true
    }
   }
  },
  {
   "cell_type":"markdown",
   "source":[
    "4. **Convert and handle string in 'price' column.**\n",
    "\n",
    "Solved as part of the EDA process."
   ],
   "attachments":{
    
   },
   "metadata":{
    "datalore":{
     "node_id":"7vKO1O0BjQK0kXcYZKKHg4",
     "type":"MD",
     "hide_input_from_viewers":true,
     "hide_output_from_viewers":true
    }
   }
  },
  {
   "cell_type":"markdown",
   "source":[
    "5. **Add 'index_in_funnel' column.**"
   ],
   "attachments":{
    
   },
   "metadata":{
    "datalore":{
     "node_id":"tbYF1KqPr3DrxLNLPSW5bt",
     "type":"MD",
     "hide_input_from_viewers":true,
     "hide_output_from_viewers":true
    }
   }
  },
  {
   "cell_type":"code",
   "source":[
    "print(f'The Event types that exist are: {data.event_type.unique()}')"
   ],
   "execution_count":20,
   "outputs":[
    {
     "name":"stdout",
     "text":[
      "The Event types that exist are: ['view' 'cart' 'purchase' 'remove_from_cart']\n"
     ],
     "output_type":"stream"
    }
   ],
   "metadata":{
    "datalore":{
     "node_id":"TBU59g2Gw1r96DCKth5Mj0",
     "type":"CODE",
     "hide_input_from_viewers":true,
     "hide_output_from_viewers":true
    }
   }
  },
  {
   "cell_type":"code",
   "source":[
    "plt.figure(figsize=(8, 6))\n",
    "bar = plt.bar(data.event_type.unique(),data.event_type.value_counts(), color = 'cornflowerblue')\n",
    "plt.title(\"Event Type Distribution\", fontsize = 15)\n",
    "plt.xlabel(\"Event Type\")\n",
    "plt.xticks(rotation=20)\n",
    "plt.ylabel(\"Frequency\")\n",
    "plt.bar_label(bar, labels=[f'{e:,.0f}' for e in data.event_type.value_counts()], padding=2, color='black', fontsize=10);"
   ],
   "execution_count":21,
   "outputs":[
    {
     "data":{
      "image\/png":"[encoded data removed]"
     },
     "metadata":{
      "image\/png":{
       
      }
     },
     "output_type":"display_data"
    }
   ],
   "metadata":{
    "datalore":{
     "node_id":"drPSxtr8qHgkrtdNW8roX9",
     "type":"CODE",
     "hide_input_from_viewers":true,
     "hide_output_from_viewers":true
    }
   }
  },
  {
   "cell_type":"markdown",
   "source":[
    "6. **Create 'Session Data' DataFrame.**"
   ],
   "attachments":{
    
   },
   "metadata":{
    "datalore":{
     "node_id":"BwrGovJqxm8V80zncgPuRA",
     "type":"MD",
     "hide_input_from_viewers":true,
     "hide_output_from_viewers":true
    }
   }
  },
  {
   "cell_type":"markdown",
   "source":[
    "**Create 'event_number' column:**"
   ],
   "attachments":{
    
   },
   "metadata":{
    "datalore":{
     "node_id":"7KHKr55KlNW1bXnTdKctGS",
     "type":"MD",
     "hide_input_from_viewers":true,
     "hide_output_from_viewers":true
    }
   }
  },
  {
   "cell_type":"code",
   "source":[
    "new_columns = pd.DataFrame(columns=['event_number','visit_duration', 'list_of_viewed', 'list_of_added_to_cart', 'list_of_purchased'])\n",
    "\n",
    "# Create 'event_number' column.\n",
    "new_columns['event_number'] = data.groupby('user_session').count().user_id\n",
    "\n",
    "# Create 'visit_duration' column.\n",
    "new_columns['visit_duration'] = data.groupby('user_session').last().event_time - data.groupby('user_session').first().event_time\n",
    "# duration['visit_duration'] = duration['visit_duration'].apply(lambda x: x.total_seconds()) # If you want the duration in seconds.\n",
    "\n",
    "# Create 'list_of_viewed' column.\n",
    "new_columns['list_of_viewed'] = data.groupby('user_session').product_id.unique()\n",
    "\n",
    "# Create 'list_of_added_to_cart' column\n",
    "new_columns['list_of_added_to_cart'] = data[data.event_type == 'cart'].groupby('user_session').product_id.unique()\n",
    "\n",
    "# Create 'list_of_purchased' column\n",
    "new_columns['list_of_purchased'] = data[data.event_type == 'purchase'].groupby('user_session').product_id.unique()\n",
    "\n",
    "# Merge the new columns with our data.\n",
    "data = pd.merge(data, new_columns, on='user_session', how='left')"
   ],
   "execution_count":22,
   "outputs":[
    
   ],
   "metadata":{
    "datalore":{
     "node_id":"Y8EGpewCc4jzyTNWBizec2",
     "type":"CODE",
     "hide_input_from_viewers":true,
     "hide_output_from_viewers":true
    }
   }
  },
  {
   "cell_type":"code",
   "source":[
    "session_data = data[['user_id','user_session','funnel_number','index_in_funnel','event_number','visit_duration', 'list_of_viewed', 'list_of_added_to_cart', 'list_of_purchased']]"
   ],
   "execution_count":23,
   "outputs":[
    
   ],
   "metadata":{
    "datalore":{
     "node_id":"jLshbAUDhune2Rj6OqJByI",
     "type":"CODE",
     "hide_input_from_viewers":true,
     "hide_output_from_viewers":true
    }
   }
  },
  {
   "cell_type":"markdown",
   "source":[
    "**Here's an example of the new Data Frame:**"
   ],
   "attachments":{
    
   },
   "metadata":{
    "datalore":{
     "node_id":"8VZCcMUKNJr8RfLQ16VUQO",
     "type":"MD",
     "hide_input_from_viewers":true,
     "hide_output_from_viewers":true
    }
   }
  },
  {
   "cell_type":"code",
   "source":[
    "session_data.sample(10)"
   ],
   "execution_count":24,
   "outputs":[
    {
     "data":{
      "text\/html":[
       "<div>\n",
       "<style scoped>\n",
       "    .dataframe tbody tr th:only-of-type {\n",
       "        vertical-align: middle;\n",
       "    }\n",
       "\n",
       "    .dataframe tbody tr th {\n",
       "        vertical-align: top;\n",
       "    }\n",
       "\n",
       "    .dataframe thead th {\n",
       "        text-align: right;\n",
       "    }\n",
       "<\/style>\n",
       "<table border=\"1\" class=\"dataframe\">\n",
       "  <thead>\n",
       "    <tr style=\"text-align: right;\">\n",
       "      <th><\/th>\n",
       "      <th>user_id<\/th>\n",
       "      <th>user_session<\/th>\n",
       "      <th>funnel_number<\/th>\n",
       "      <th>index_in_funnel<\/th>\n",
       "      <th>event_number<\/th>\n",
       "      <th>visit_duration<\/th>\n",
       "      <th>list_of_viewed<\/th>\n",
       "      <th>list_of_added_to_cart<\/th>\n",
       "      <th>list_of_purchased<\/th>\n",
       "    <\/tr>\n",
       "  <\/thead>\n",
       "  <tbody>\n",
       "    <tr>\n",
       "      <th>0<\/th>\n",
       "      <td>1120748<\/td>\n",
       "      <td>d0484d94-7ac1-44e8-a310-2360da11ad9d<\/td>\n",
       "      <td>1<\/td>\n",
       "      <td>1<\/td>\n",
       "      <td>1<\/td>\n",
       "      <td>0 days 00:00:00<\/td>\n",
       "      <td>[5240]<\/td>\n",
       "      <td>NaN<\/td>\n",
       "      <td>NaN<\/td>\n",
       "    <\/tr>\n",
       "    <tr>\n",
       "      <th>1<\/th>\n",
       "      <td>10079204<\/td>\n",
       "      <td>f873d16b-4efa-4e92-81be-92948aef2ff5<\/td>\n",
       "      <td>1<\/td>\n",
       "      <td>1<\/td>\n",
       "      <td>4<\/td>\n",
       "      <td>0 days 00:02:56<\/td>\n",
       "      <td>[5614842, 5766379]<\/td>\n",
       "      <td>[5614842, 5766379]<\/td>\n",
       "      <td>[5766379, 5614842]<\/td>\n",
       "    <\/tr>\n",
       "    <tr>\n",
       "      <th>2<\/th>\n",
       "      <td>10079204<\/td>\n",
       "      <td>f873d16b-4efa-4e92-81be-92948aef2ff5<\/td>\n",
       "      <td>1<\/td>\n",
       "      <td>2<\/td>\n",
       "      <td>4<\/td>\n",
       "      <td>0 days 00:02:56<\/td>\n",
       "      <td>[5614842, 5766379]<\/td>\n",
       "      <td>[5614842, 5766379]<\/td>\n",
       "      <td>[5766379, 5614842]<\/td>\n",
       "    <\/tr>\n",
       "    <tr>\n",
       "      <th>3<\/th>\n",
       "      <td>10079204<\/td>\n",
       "      <td>f873d16b-4efa-4e92-81be-92948aef2ff5<\/td>\n",
       "      <td>1<\/td>\n",
       "      <td>3<\/td>\n",
       "      <td>4<\/td>\n",
       "      <td>0 days 00:02:56<\/td>\n",
       "      <td>[5614842, 5766379]<\/td>\n",
       "      <td>[5614842, 5766379]<\/td>\n",
       "      <td>[5766379, 5614842]<\/td>\n",
       "    <\/tr>\n",
       "    <tr>\n",
       "      <th>4<\/th>\n",
       "      <td>10079204<\/td>\n",
       "      <td>f873d16b-4efa-4e92-81be-92948aef2ff5<\/td>\n",
       "      <td>1<\/td>\n",
       "      <td>4<\/td>\n",
       "      <td>4<\/td>\n",
       "      <td>0 days 00:02:56<\/td>\n",
       "      <td>[5614842, 5766379]<\/td>\n",
       "      <td>[5614842, 5766379]<\/td>\n",
       "      <td>[5766379, 5614842]<\/td>\n",
       "    <\/tr>\n",
       "    <tr>\n",
       "      <th>5<\/th>\n",
       "      <td>10521214<\/td>\n",
       "      <td>25d2d492-d688-4baa-adf1-7296dbdd663e<\/td>\n",
       "      <td>1<\/td>\n",
       "      <td>1<\/td>\n",
       "      <td>3<\/td>\n",
       "      <td>0 days 00:02:13<\/td>\n",
       "      <td>[5713294, 5713295]<\/td>\n",
       "      <td>NaN<\/td>\n",
       "      <td>NaN<\/td>\n",
       "    <\/tr>\n",
       "    <tr>\n",
       "      <th>6<\/th>\n",
       "      <td>10521214<\/td>\n",
       "      <td>25d2d492-d688-4baa-adf1-7296dbdd663e<\/td>\n",
       "      <td>1<\/td>\n",
       "      <td>2<\/td>\n",
       "      <td>3<\/td>\n",
       "      <td>0 days 00:02:13<\/td>\n",
       "      <td>[5713294, 5713295]<\/td>\n",
       "      <td>NaN<\/td>\n",
       "      <td>NaN<\/td>\n",
       "    <\/tr>\n",
       "    <tr>\n",
       "      <th>7<\/th>\n",
       "      <td>10521214<\/td>\n",
       "      <td>25d2d492-d688-4baa-adf1-7296dbdd663e<\/td>\n",
       "      <td>1<\/td>\n",
       "      <td>3<\/td>\n",
       "      <td>3<\/td>\n",
       "      <td>0 days 00:02:13<\/td>\n",
       "      <td>[5713294, 5713295]<\/td>\n",
       "      <td>NaN<\/td>\n",
       "      <td>NaN<\/td>\n",
       "    <\/tr>\n",
       "    <tr>\n",
       "      <th>8<\/th>\n",
       "      <td>11274156<\/td>\n",
       "      <td>0c778a88-4700-4e8b-becb-3371ec28ea79<\/td>\n",
       "      <td>1<\/td>\n",
       "      <td>1<\/td>\n",
       "      <td>2<\/td>\n",
       "      <td>0 days 00:00:20<\/td>\n",
       "      <td>[5809910, 5899834]<\/td>\n",
       "      <td>[5809910]<\/td>\n",
       "      <td>NaN<\/td>\n",
       "    <\/tr>\n",
       "    <tr>\n",
       "      <th>9<\/th>\n",
       "      <td>11274156<\/td>\n",
       "      <td>0c778a88-4700-4e8b-becb-3371ec28ea79<\/td>\n",
       "      <td>1<\/td>\n",
       "      <td>2<\/td>\n",
       "      <td>2<\/td>\n",
       "      <td>0 days 00:00:20<\/td>\n",
       "      <td>[5809910, 5899834]<\/td>\n",
       "      <td>[5809910]<\/td>\n",
       "      <td>NaN<\/td>\n",
       "    <\/tr>\n",
       "  <\/tbody>\n",
       "<\/table>\n",
       "<\/div>"
      ]
     },
     "metadata":{
      
     },
     "output_type":"display_data"
    }
   ],
   "metadata":{
    "datalore":{
     "node_id":"uzegxEvmr1ebI7mQltcwjA",
     "type":"CODE",
     "hide_input_from_viewers":true,
     "hide_output_from_viewers":true
    }
   }
  },
  {
   "cell_type":"markdown",
   "source":[
    "**In conclusion**, this notebook presents an exploratory data analysis of user session data from an e-commerce website.  \n",
    "\n",
    "By analyzing the dataset and addressing missing values, optimizing data types, and engineering new variables, **we were able to gain new insights into user behavior on the website**.  \n",
    "\n",
    "Through this analysis, **we gained a deeper understanding** of website traffic, user engagement, and potential areas for business strategy. "
   ],
   "attachments":{
    
   },
   "metadata":{
    "datalore":{
     "node_id":"judYZ2NXkzV4xujWL2Q1Np",
     "type":"MD",
     "hide_input_from_viewers":true,
     "hide_output_from_viewers":true
    }
   }
  }
 ],
 "metadata":{
  "kernelspec":{
   "display_name":"Python",
   "language":"python",
   "name":"python"
  },
  "datalore":{
   "computation_mode":"JUPYTER",
   "package_manager":"pip",
   "base_environment":"default",
   "packages":[
    
   ],
   "report_row_ids":[
    
   ],
   "version":3
  }
 },
 "nbformat":4,
 "nbformat_minor":4
}